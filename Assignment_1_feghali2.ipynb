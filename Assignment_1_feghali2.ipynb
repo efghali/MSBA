{
  "cells": [
    {
      "cell_type": "markdown",
      "metadata": {
        "id": "HUokAXSIRZCq"
      },
      "source": [
        "# Assignment 3 - Pandas DataFrame\n",
        "## Part 1 (75 Points evenly distributed to first three questions)\n",
        "The following code loads the olympics dataset (olympics.csv), which was derived from the Wikipedia entry on [All Time Olympic Games Medals](https://en.wikipedia.org/wiki/All-time_Olympic_Games_medal_table), and does some basic data cleaning. \n",
        "\n",
        "The columns are organized as # of Summer games, Summer medals, # of Winter games, Winter medals, total # number of games, total # of medals. Use this dataset to answer the questions below."
      ]
    },
    {
      "cell_type": "code",
      "execution_count": null,
      "metadata": {
        "id": "3PgpggSQRZCy",
        "outputId": "8562039f-0fd6-41f2-b9ef-a996ad83a449"
      },
      "outputs": [
        {
          "data": {
            "text/html": [
              "<div>\n",
              "<style scoped>\n",
              "    .dataframe tbody tr th:only-of-type {\n",
              "        vertical-align: middle;\n",
              "    }\n",
              "\n",
              "    .dataframe tbody tr th {\n",
              "        vertical-align: top;\n",
              "    }\n",
              "\n",
              "    .dataframe thead th {\n",
              "        text-align: right;\n",
              "    }\n",
              "</style>\n",
              "<table border=\"1\" class=\"dataframe\">\n",
              "  <thead>\n",
              "    <tr style=\"text-align: right;\">\n",
              "      <th></th>\n",
              "      <th># Summer</th>\n",
              "      <th>Gold</th>\n",
              "      <th>Silver</th>\n",
              "      <th>Bronze</th>\n",
              "      <th>Total</th>\n",
              "      <th># Winter</th>\n",
              "      <th>Gold.1</th>\n",
              "      <th>Silver.1</th>\n",
              "      <th>Bronze.1</th>\n",
              "      <th>Total.1</th>\n",
              "      <th># Games</th>\n",
              "      <th>Gold.2</th>\n",
              "      <th>Silver.2</th>\n",
              "      <th>Bronze.2</th>\n",
              "      <th>Combined total</th>\n",
              "      <th>ID</th>\n",
              "    </tr>\n",
              "  </thead>\n",
              "  <tbody>\n",
              "    <tr>\n",
              "      <th>Afghanistan</th>\n",
              "      <td>13</td>\n",
              "      <td>0</td>\n",
              "      <td>0</td>\n",
              "      <td>2</td>\n",
              "      <td>2</td>\n",
              "      <td>0</td>\n",
              "      <td>0</td>\n",
              "      <td>0</td>\n",
              "      <td>0</td>\n",
              "      <td>0</td>\n",
              "      <td>13</td>\n",
              "      <td>0</td>\n",
              "      <td>0</td>\n",
              "      <td>2</td>\n",
              "      <td>2</td>\n",
              "      <td>AFG</td>\n",
              "    </tr>\n",
              "    <tr>\n",
              "      <th>Algeria</th>\n",
              "      <td>12</td>\n",
              "      <td>5</td>\n",
              "      <td>2</td>\n",
              "      <td>8</td>\n",
              "      <td>15</td>\n",
              "      <td>3</td>\n",
              "      <td>0</td>\n",
              "      <td>0</td>\n",
              "      <td>0</td>\n",
              "      <td>0</td>\n",
              "      <td>15</td>\n",
              "      <td>5</td>\n",
              "      <td>2</td>\n",
              "      <td>8</td>\n",
              "      <td>15</td>\n",
              "      <td>ALG</td>\n",
              "    </tr>\n",
              "    <tr>\n",
              "      <th>Argentina</th>\n",
              "      <td>23</td>\n",
              "      <td>18</td>\n",
              "      <td>24</td>\n",
              "      <td>28</td>\n",
              "      <td>70</td>\n",
              "      <td>18</td>\n",
              "      <td>0</td>\n",
              "      <td>0</td>\n",
              "      <td>0</td>\n",
              "      <td>0</td>\n",
              "      <td>41</td>\n",
              "      <td>18</td>\n",
              "      <td>24</td>\n",
              "      <td>28</td>\n",
              "      <td>70</td>\n",
              "      <td>ARG</td>\n",
              "    </tr>\n",
              "    <tr>\n",
              "      <th>Armenia</th>\n",
              "      <td>5</td>\n",
              "      <td>1</td>\n",
              "      <td>2</td>\n",
              "      <td>9</td>\n",
              "      <td>12</td>\n",
              "      <td>6</td>\n",
              "      <td>0</td>\n",
              "      <td>0</td>\n",
              "      <td>0</td>\n",
              "      <td>0</td>\n",
              "      <td>11</td>\n",
              "      <td>1</td>\n",
              "      <td>2</td>\n",
              "      <td>9</td>\n",
              "      <td>12</td>\n",
              "      <td>ARM</td>\n",
              "    </tr>\n",
              "    <tr>\n",
              "      <th>Australasia</th>\n",
              "      <td>2</td>\n",
              "      <td>3</td>\n",
              "      <td>4</td>\n",
              "      <td>5</td>\n",
              "      <td>12</td>\n",
              "      <td>0</td>\n",
              "      <td>0</td>\n",
              "      <td>0</td>\n",
              "      <td>0</td>\n",
              "      <td>0</td>\n",
              "      <td>2</td>\n",
              "      <td>3</td>\n",
              "      <td>4</td>\n",
              "      <td>5</td>\n",
              "      <td>12</td>\n",
              "      <td>ANZ</td>\n",
              "    </tr>\n",
              "  </tbody>\n",
              "</table>\n",
              "</div>"
            ],
            "text/plain": [
              "             # Summer  Gold  Silver  Bronze  Total  # Winter  Gold.1  \\\n",
              "Afghanistan        13     0       0       2      2         0       0   \n",
              "Algeria            12     5       2       8     15         3       0   \n",
              "Argentina          23    18      24      28     70        18       0   \n",
              "Armenia             5     1       2       9     12         6       0   \n",
              "Australasia         2     3       4       5     12         0       0   \n",
              "\n",
              "             Silver.1  Bronze.1  Total.1  # Games  Gold.2  Silver.2  Bronze.2  \\\n",
              "Afghanistan         0         0        0       13       0         0         2   \n",
              "Algeria             0         0        0       15       5         2         8   \n",
              "Argentina           0         0        0       41      18        24        28   \n",
              "Armenia             0         0        0       11       1         2         9   \n",
              "Australasia         0         0        0        2       3         4         5   \n",
              "\n",
              "             Combined total   ID  \n",
              "Afghanistan               2  AFG  \n",
              "Algeria                  15  ALG  \n",
              "Argentina                70  ARG  \n",
              "Armenia                  12  ARM  \n",
              "Australasia              12  ANZ  "
            ]
          },
          "execution_count": 1,
          "metadata": {},
          "output_type": "execute_result"
        }
      ],
      "source": [
        "import pandas as pd\n",
        "\n",
        "df = pd.read_csv('olympics.csv', index_col=0, skiprows=1)\n",
        "\n",
        "for col in df.columns:\n",
        "    if col[:2]=='01':\n",
        "        df.rename(columns={col:'Gold'+col[4:]}, inplace=True)\n",
        "    if col[:2]=='02':\n",
        "        df.rename(columns={col:'Silver'+col[4:]}, inplace=True)\n",
        "    if col[:2]=='03':\n",
        "        df.rename(columns={col:'Bronze'+col[4:]}, inplace=True)\n",
        "    if col[:1]=='№':\n",
        "        df.rename(columns={col:'#'+col[1:]}, inplace=True)\n",
        "\n",
        "names_ids = df.index.str.split('\\s\\(') # split the index by '('\n",
        "\n",
        "df.index = names_ids.str[0] # the [0] element is the country name (new index) \n",
        "df['ID'] = names_ids.str[1].str[:3] # the [1] element is the abbreviation or ID (take first 3 characters from that)\n",
        "\n",
        "df = df.drop('Totals')\n",
        "df.head()"
      ]
    },
    {
      "cell_type": "markdown",
      "metadata": {
        "id": "PidnDK6YRZDJ"
      },
      "source": [
        "### Question 1 \n",
        "\n",
        "What is the first country in df?\n",
        "\n",
        "*This function should return a Series.*"
      ]
    },
    {
      "cell_type": "code",
      "execution_count": null,
      "metadata": {
        "collapsed": true,
        "id": "XRP1wPUVRZDP",
        "outputId": "d658c9f7-5571-4aa0-a85b-6c036a628872"
      },
      "outputs": [
        {
          "data": {
            "text/plain": [
              "# Summer           13\n",
              "Gold                0\n",
              "Silver              0\n",
              "Bronze              2\n",
              "Total               2\n",
              "# Winter            0\n",
              "Gold.1              0\n",
              "Silver.1            0\n",
              "Bronze.1            0\n",
              "Total.1             0\n",
              "# Games            13\n",
              "Gold.2              0\n",
              "Silver.2            0\n",
              "Bronze.2            2\n",
              "Combined total      2\n",
              "ID                AFG\n",
              "Name: Afghanistan, dtype: object"
            ]
          },
          "execution_count": 2,
          "metadata": {},
          "output_type": "execute_result"
        }
      ],
      "source": [
        "# You should write your whole answer within the function provided. \n",
        "def answer_zero():\n",
        "    # This function should return the row for the first country, which is a Series object.\n",
        "    return(df.iloc[0,:])\n",
        "\n",
        "# You can examine what your function returns by calling it in the cell. \n",
        "answer_zero() "
      ]
    },
    {
      "cell_type": "markdown",
      "metadata": {
        "id": "7js9Sx02RZDQ"
      },
      "source": [
        "### Question 2\n",
        "In summer games, which nation has won the most gold medals?\n",
        "\n",
        "\n",
        "*This function should return a single string value.*\n"
      ]
    },
    {
      "cell_type": "code",
      "execution_count": null,
      "metadata": {
        "collapsed": true,
        "id": "ss3y3lscRZDR",
        "outputId": "f3ad4174-1475-415b-959f-2d8521b1cc0a"
      },
      "outputs": [
        {
          "data": {
            "text/plain": [
              "'United States'"
            ]
          },
          "execution_count": 3,
          "metadata": {},
          "output_type": "execute_result"
        }
      ],
      "source": [
        "def answer_one():\n",
        "    return(df['Gold'].idxmax())\n",
        "    \n",
        "answer_one()"
      ]
    },
    {
      "cell_type": "markdown",
      "metadata": {
        "id": "bWIZTk-tRZDS"
      },
      "source": [
        "### Question 3\n",
        "Which nation had the biggest difference on gold medal counts? (between their summer and winter) \n",
        "\n",
        "*This function should return a single string value.*"
      ]
    },
    {
      "cell_type": "code",
      "execution_count": null,
      "metadata": {
        "collapsed": true,
        "id": "JcPehXQnRZDS",
        "outputId": "1e970c02-d464-4120-86e6-5d6934f86d89"
      },
      "outputs": [
        {
          "data": {
            "text/plain": [
              "'United States'"
            ]
          },
          "execution_count": 4,
          "metadata": {},
          "output_type": "execute_result"
        }
      ],
      "source": [
        "def answer_one():\n",
        "    return(pd.DataFrame(df['Gold']-df['Gold.1'])[0].idxmax())\n",
        "\n",
        "answer_one()"
      ]
    },
    {
      "cell_type": "markdown",
      "metadata": {
        "id": "RTiBhNSnRZDT"
      },
      "source": [
        "# PART 2\n",
        "## Question 4 (25 Points for first two questions + 25 Points Bonus for last two questions)"
      ]
    },
    {
      "cell_type": "markdown",
      "metadata": {
        "id": "Ysy1kAmcRZDU"
      },
      "source": [
        "We will look at the publicly available airline data in this question similar to flights.csv that we covered in class practices. However, in this assignment, you are given 6 months of seperate data along with lookup tables for carriers and airports. Please apply data exploration and pre-procesing techniques and provide your answers for the following questions.\n",
        "\n",
        "\n",
        "\n",
        "Questions: \n",
        "\n",
        "    1. What carrier has flown the 1st most number of flights? How many?  \n",
        "    2. Which airport has the 3rd most delays? \n",
        "    3. What is the most popular day of the week to travel?\n",
        "    4. What is the 1st and 5th most flown route? \n",
        "\n",
        "Hints:\n",
        "\n",
        "1- pd.concat(list)\n",
        "list=[A,B,C...] e.g. A= pd.read_csv(\"1.csv\",encoding='utf-8')\n",
        "\n",
        "2-please leverage from pandas dataframe features including \n",
        "groupby(...).size()...\n",
        "groupby(...).sum().sort_values(....)\n",
        "\n",
        "3- Dont forget to consider cancelled flights\n",
        "\n",
        "4- Try to create a new column for \"route\"\n",
        "\n",
        "Dataset Details: \n",
        "Dataset name: On-Time Performance,\n",
        "Lookup Table: Carrier Lookup,\n",
        "Lookup Table: Airport Lookup\n"
      ]
    },
    {
      "cell_type": "code",
      "execution_count": null,
      "metadata": {
        "collapsed": true,
        "id": "zFk8NWq4RZDW"
      },
      "outputs": [],
      "source": [
        "#Importing the Data\n",
        "import pandas as pd\n",
        "\n",
        "df1 = pd.read_csv('1.csv',encoding='utf-8')\n",
        "df2 = pd.read_csv('2.csv',encoding='utf-8')\n",
        "df3 = pd.read_csv('3.csv',encoding='utf-8')\n",
        "df4 = pd.read_csv('4.csv',encoding='utf-8')\n",
        "df5 = pd.read_csv('5.csv',encoding='utf-8')\n",
        "df6 = pd.read_csv('6.csv',encoding='utf-8')\n",
        "frames=[df1,df2,df3,df4,df5,df6]\n",
        "df_f = pd.concat(frames)"
      ]
    },
    {
      "cell_type": "code",
      "execution_count": null,
      "metadata": {
        "id": "BDSktQSoRZDX",
        "outputId": "60cf9037-09b7-4bfd-dc02-90a77eba8481"
      },
      "outputs": [
        {
          "data": {
            "text/html": [
              "<div>\n",
              "<style scoped>\n",
              "    .dataframe tbody tr th:only-of-type {\n",
              "        vertical-align: middle;\n",
              "    }\n",
              "\n",
              "    .dataframe tbody tr th {\n",
              "        vertical-align: top;\n",
              "    }\n",
              "\n",
              "    .dataframe thead th {\n",
              "        text-align: right;\n",
              "    }\n",
              "</style>\n",
              "<table border=\"1\" class=\"dataframe\">\n",
              "  <thead>\n",
              "    <tr style=\"text-align: right;\">\n",
              "      <th></th>\n",
              "      <th>FL_DATE</th>\n",
              "      <th>UNIQUE_CARRIER</th>\n",
              "      <th>AIRLINE_ID</th>\n",
              "      <th>CARRIER</th>\n",
              "      <th>TAIL_NUM</th>\n",
              "      <th>FL_NUM</th>\n",
              "      <th>ORIGIN_AIRPORT_ID</th>\n",
              "      <th>ORIGIN_AIRPORT_SEQ_ID</th>\n",
              "      <th>ORIGIN_CITY_MARKET_ID</th>\n",
              "      <th>ORIGIN</th>\n",
              "      <th>...</th>\n",
              "      <th>ARR_TIME_BLK</th>\n",
              "      <th>CANCELLED</th>\n",
              "      <th>DIVERTED</th>\n",
              "      <th>CRS_ELAPSED_TIME</th>\n",
              "      <th>ACTUAL_ELAPSED_TIME</th>\n",
              "      <th>AIR_TIME</th>\n",
              "      <th>FLIGHTS</th>\n",
              "      <th>DISTANCE</th>\n",
              "      <th>DISTANCE_GROUP</th>\n",
              "      <th>Unnamed: 50</th>\n",
              "    </tr>\n",
              "  </thead>\n",
              "  <tbody>\n",
              "    <tr>\n",
              "      <th>0</th>\n",
              "      <td>2014-01-01</td>\n",
              "      <td>AA</td>\n",
              "      <td>19805</td>\n",
              "      <td>AA</td>\n",
              "      <td>N002AA</td>\n",
              "      <td>2377</td>\n",
              "      <td>12278</td>\n",
              "      <td>1227802</td>\n",
              "      <td>30928</td>\n",
              "      <td>ICT</td>\n",
              "      <td>...</td>\n",
              "      <td>1300-1359</td>\n",
              "      <td>0.0</td>\n",
              "      <td>0.0</td>\n",
              "      <td>85.0</td>\n",
              "      <td>78.0</td>\n",
              "      <td>57.0</td>\n",
              "      <td>1.0</td>\n",
              "      <td>328.0</td>\n",
              "      <td>2</td>\n",
              "      <td>NaN</td>\n",
              "    </tr>\n",
              "    <tr>\n",
              "      <th>1</th>\n",
              "      <td>2014-01-01</td>\n",
              "      <td>AA</td>\n",
              "      <td>19805</td>\n",
              "      <td>AA</td>\n",
              "      <td>N3FXAA</td>\n",
              "      <td>2378</td>\n",
              "      <td>13303</td>\n",
              "      <td>1330303</td>\n",
              "      <td>32467</td>\n",
              "      <td>MIA</td>\n",
              "      <td>...</td>\n",
              "      <td>2300-2359</td>\n",
              "      <td>0.0</td>\n",
              "      <td>0.0</td>\n",
              "      <td>60.0</td>\n",
              "      <td>55.0</td>\n",
              "      <td>37.0</td>\n",
              "      <td>1.0</td>\n",
              "      <td>204.0</td>\n",
              "      <td>1</td>\n",
              "      <td>NaN</td>\n",
              "    </tr>\n",
              "    <tr>\n",
              "      <th>2</th>\n",
              "      <td>2014-01-01</td>\n",
              "      <td>EV</td>\n",
              "      <td>20366</td>\n",
              "      <td>EV</td>\n",
              "      <td>N906EV</td>\n",
              "      <td>2500</td>\n",
              "      <td>11298</td>\n",
              "      <td>1129803</td>\n",
              "      <td>30194</td>\n",
              "      <td>DFW</td>\n",
              "      <td>...</td>\n",
              "      <td>2200-2259</td>\n",
              "      <td>1.0</td>\n",
              "      <td>0.0</td>\n",
              "      <td>60.0</td>\n",
              "      <td>NaN</td>\n",
              "      <td>NaN</td>\n",
              "      <td>1.0</td>\n",
              "      <td>247.0</td>\n",
              "      <td>1</td>\n",
              "      <td>NaN</td>\n",
              "    </tr>\n",
              "    <tr>\n",
              "      <th>3</th>\n",
              "      <td>2014-01-01</td>\n",
              "      <td>EV</td>\n",
              "      <td>20366</td>\n",
              "      <td>EV</td>\n",
              "      <td>N903EV</td>\n",
              "      <td>2502</td>\n",
              "      <td>11146</td>\n",
              "      <td>1114603</td>\n",
              "      <td>31146</td>\n",
              "      <td>CRW</td>\n",
              "      <td>...</td>\n",
              "      <td>1900-1959</td>\n",
              "      <td>0.0</td>\n",
              "      <td>0.0</td>\n",
              "      <td>185.0</td>\n",
              "      <td>180.0</td>\n",
              "      <td>150.0</td>\n",
              "      <td>1.0</td>\n",
              "      <td>946.0</td>\n",
              "      <td>4</td>\n",
              "      <td>NaN</td>\n",
              "    </tr>\n",
              "    <tr>\n",
              "      <th>4</th>\n",
              "      <td>2014-01-01</td>\n",
              "      <td>EV</td>\n",
              "      <td>20366</td>\n",
              "      <td>EV</td>\n",
              "      <td>N903EV</td>\n",
              "      <td>2502</td>\n",
              "      <td>11298</td>\n",
              "      <td>1129803</td>\n",
              "      <td>30194</td>\n",
              "      <td>DFW</td>\n",
              "      <td>...</td>\n",
              "      <td>1600-1659</td>\n",
              "      <td>0.0</td>\n",
              "      <td>0.0</td>\n",
              "      <td>125.0</td>\n",
              "      <td>115.0</td>\n",
              "      <td>101.0</td>\n",
              "      <td>1.0</td>\n",
              "      <td>946.0</td>\n",
              "      <td>4</td>\n",
              "      <td>NaN</td>\n",
              "    </tr>\n",
              "  </tbody>\n",
              "</table>\n",
              "<p>5 rows × 51 columns</p>\n",
              "</div>"
            ],
            "text/plain": [
              "      FL_DATE UNIQUE_CARRIER  AIRLINE_ID CARRIER TAIL_NUM  FL_NUM  \\\n",
              "0  2014-01-01             AA       19805      AA   N002AA    2377   \n",
              "1  2014-01-01             AA       19805      AA   N3FXAA    2378   \n",
              "2  2014-01-01             EV       20366      EV   N906EV    2500   \n",
              "3  2014-01-01             EV       20366      EV   N903EV    2502   \n",
              "4  2014-01-01             EV       20366      EV   N903EV    2502   \n",
              "\n",
              "   ORIGIN_AIRPORT_ID  ORIGIN_AIRPORT_SEQ_ID  ORIGIN_CITY_MARKET_ID ORIGIN  \\\n",
              "0              12278                1227802                  30928    ICT   \n",
              "1              13303                1330303                  32467    MIA   \n",
              "2              11298                1129803                  30194    DFW   \n",
              "3              11146                1114603                  31146    CRW   \n",
              "4              11298                1129803                  30194    DFW   \n",
              "\n",
              "   ... ARR_TIME_BLK CANCELLED  DIVERTED CRS_ELAPSED_TIME  ACTUAL_ELAPSED_TIME  \\\n",
              "0  ...    1300-1359       0.0       0.0             85.0                 78.0   \n",
              "1  ...    2300-2359       0.0       0.0             60.0                 55.0   \n",
              "2  ...    2200-2259       1.0       0.0             60.0                  NaN   \n",
              "3  ...    1900-1959       0.0       0.0            185.0                180.0   \n",
              "4  ...    1600-1659       0.0       0.0            125.0                115.0   \n",
              "\n",
              "   AIR_TIME  FLIGHTS  DISTANCE DISTANCE_GROUP Unnamed: 50  \n",
              "0      57.0      1.0     328.0              2         NaN  \n",
              "1      37.0      1.0     204.0              1         NaN  \n",
              "2       NaN      1.0     247.0              1         NaN  \n",
              "3     150.0      1.0     946.0              4         NaN  \n",
              "4     101.0      1.0     946.0              4         NaN  \n",
              "\n",
              "[5 rows x 51 columns]"
            ]
          },
          "execution_count": 6,
          "metadata": {},
          "output_type": "execute_result"
        }
      ],
      "source": [
        "df_f.head()"
      ]
    },
    {
      "cell_type": "code",
      "execution_count": null,
      "metadata": {
        "id": "40097RUwRZDY",
        "outputId": "96b20f93-faa0-47b2-d5c4-eac09f6b5356"
      },
      "outputs": [
        {
          "data": {
            "text/plain": [
              "Index(['FL_DATE', 'UNIQUE_CARRIER', 'AIRLINE_ID', 'CARRIER', 'TAIL_NUM',\n",
              "       'FL_NUM', 'ORIGIN_AIRPORT_ID', 'ORIGIN_AIRPORT_SEQ_ID',\n",
              "       'ORIGIN_CITY_MARKET_ID', 'ORIGIN', 'ORIGIN_CITY_NAME',\n",
              "       'ORIGIN_STATE_ABR', 'ORIGIN_STATE_FIPS', 'ORIGIN_STATE_NM',\n",
              "       'ORIGIN_WAC', 'DEST_AIRPORT_ID', 'DEST_AIRPORT_SEQ_ID',\n",
              "       'DEST_CITY_MARKET_ID', 'DEST', 'DEST_CITY_NAME', 'DEST_STATE_ABR',\n",
              "       'DEST_STATE_FIPS', 'DEST_STATE_NM', 'DEST_WAC', 'CRS_DEP_TIME',\n",
              "       'DEP_TIME', 'DEP_DELAY', 'DEP_DELAY_NEW', 'DEP_DEL15',\n",
              "       'DEP_DELAY_GROUP', 'DEP_TIME_BLK', 'TAXI_OUT', 'WHEELS_OFF',\n",
              "       'WHEELS_ON', 'TAXI_IN', 'CRS_ARR_TIME', 'ARR_TIME', 'ARR_DELAY',\n",
              "       'ARR_DELAY_NEW', 'ARR_DEL15', 'ARR_DELAY_GROUP', 'ARR_TIME_BLK',\n",
              "       'CANCELLED', 'DIVERTED', 'CRS_ELAPSED_TIME', 'ACTUAL_ELAPSED_TIME',\n",
              "       'AIR_TIME', 'FLIGHTS', 'DISTANCE', 'DISTANCE_GROUP', 'Unnamed: 50'],\n",
              "      dtype='object')"
            ]
          },
          "execution_count": 7,
          "metadata": {},
          "output_type": "execute_result"
        }
      ],
      "source": [
        "df_f.columns"
      ]
    },
    {
      "cell_type": "code",
      "execution_count": null,
      "metadata": {
        "id": "yh7Osr_mRZDY",
        "outputId": "81476dcf-d2b4-4c83-dc19-e8c441c8b042"
      },
      "outputs": [
        {
          "data": {
            "text/html": [
              "<div>\n",
              "<style scoped>\n",
              "    .dataframe tbody tr th:only-of-type {\n",
              "        vertical-align: middle;\n",
              "    }\n",
              "\n",
              "    .dataframe tbody tr th {\n",
              "        vertical-align: top;\n",
              "    }\n",
              "\n",
              "    .dataframe thead th {\n",
              "        text-align: right;\n",
              "    }\n",
              "</style>\n",
              "<table border=\"1\" class=\"dataframe\">\n",
              "  <thead>\n",
              "    <tr style=\"text-align: right;\">\n",
              "      <th></th>\n",
              "      <th>Code</th>\n",
              "      <th>Description</th>\n",
              "    </tr>\n",
              "  </thead>\n",
              "  <tbody>\n",
              "    <tr>\n",
              "      <th>0</th>\n",
              "      <td>02Q</td>\n",
              "      <td>Titan Airways (2006 - )</td>\n",
              "    </tr>\n",
              "    <tr>\n",
              "      <th>1</th>\n",
              "      <td>04Q</td>\n",
              "      <td>Tradewind Aviation (2006 - )</td>\n",
              "    </tr>\n",
              "    <tr>\n",
              "      <th>2</th>\n",
              "      <td>05Q</td>\n",
              "      <td>Comlux Aviation, AG (2006 - 2012)</td>\n",
              "    </tr>\n",
              "    <tr>\n",
              "      <th>3</th>\n",
              "      <td>06Q</td>\n",
              "      <td>Master Top Linhas Aereas Ltd. (2007 - )</td>\n",
              "    </tr>\n",
              "    <tr>\n",
              "      <th>4</th>\n",
              "      <td>07Q</td>\n",
              "      <td>Flair Airlines Ltd. (2007 - )</td>\n",
              "    </tr>\n",
              "  </tbody>\n",
              "</table>\n",
              "</div>"
            ],
            "text/plain": [
              "  Code                              Description\n",
              "0  02Q                  Titan Airways (2006 - )\n",
              "1  04Q             Tradewind Aviation (2006 - )\n",
              "2  05Q        Comlux Aviation, AG (2006 - 2012)\n",
              "3  06Q  Master Top Linhas Aereas Ltd. (2007 - )\n",
              "4  07Q            Flair Airlines Ltd. (2007 - )"
            ]
          },
          "execution_count": 8,
          "metadata": {},
          "output_type": "execute_result"
        }
      ],
      "source": [
        "carrier_df=pd.read_csv('Lookup Tables\\L_CARRIER_HISTORY.csv',encoding='utf-8')\n",
        "carrier_df.head()"
      ]
    },
    {
      "cell_type": "code",
      "execution_count": null,
      "metadata": {
        "id": "A0lp3K3sRZDZ",
        "outputId": "beb52b70-9c9f-45ca-c8eb-4ad7e14ba554"
      },
      "outputs": [
        {
          "data": {
            "text/html": [
              "<div>\n",
              "<style scoped>\n",
              "    .dataframe tbody tr th:only-of-type {\n",
              "        vertical-align: middle;\n",
              "    }\n",
              "\n",
              "    .dataframe tbody tr th {\n",
              "        vertical-align: top;\n",
              "    }\n",
              "\n",
              "    .dataframe thead th {\n",
              "        text-align: right;\n",
              "    }\n",
              "</style>\n",
              "<table border=\"1\" class=\"dataframe\">\n",
              "  <thead>\n",
              "    <tr style=\"text-align: right;\">\n",
              "      <th></th>\n",
              "      <th>Code</th>\n",
              "      <th>Description</th>\n",
              "    </tr>\n",
              "  </thead>\n",
              "  <tbody>\n",
              "    <tr>\n",
              "      <th>0</th>\n",
              "      <td>10001</td>\n",
              "      <td>Afognak Lake, AK: Afognak Lake Airport</td>\n",
              "    </tr>\n",
              "    <tr>\n",
              "      <th>1</th>\n",
              "      <td>10003</td>\n",
              "      <td>Granite Mountain, AK: Bear Creek Mining Strip</td>\n",
              "    </tr>\n",
              "    <tr>\n",
              "      <th>2</th>\n",
              "      <td>10004</td>\n",
              "      <td>Lik, AK: Lik Mining Camp</td>\n",
              "    </tr>\n",
              "    <tr>\n",
              "      <th>3</th>\n",
              "      <td>10005</td>\n",
              "      <td>Little Squaw, AK: Little Squaw Airport</td>\n",
              "    </tr>\n",
              "    <tr>\n",
              "      <th>4</th>\n",
              "      <td>10006</td>\n",
              "      <td>Kizhuyak, AK: Kizhuyak Bay</td>\n",
              "    </tr>\n",
              "  </tbody>\n",
              "</table>\n",
              "</div>"
            ],
            "text/plain": [
              "    Code                                    Description\n",
              "0  10001         Afognak Lake, AK: Afognak Lake Airport\n",
              "1  10003  Granite Mountain, AK: Bear Creek Mining Strip\n",
              "2  10004                       Lik, AK: Lik Mining Camp\n",
              "3  10005         Little Squaw, AK: Little Squaw Airport\n",
              "4  10006                     Kizhuyak, AK: Kizhuyak Bay"
            ]
          },
          "execution_count": 23,
          "metadata": {},
          "output_type": "execute_result"
        }
      ],
      "source": [
        "airport_df=pd.read_csv('Lookup Tables\\L_AIRPORT_ID.csv',encoding='utf-8')\n",
        "airport_df.head()"
      ]
    },
    {
      "cell_type": "markdown",
      "metadata": {
        "id": "dgZy8IhYRZDa"
      },
      "source": [
        "### Question 1 What carrier has flown the 1st most number of flights? How many? "
      ]
    },
    {
      "cell_type": "code",
      "execution_count": null,
      "metadata": {
        "id": "Veq3mEbORZDe",
        "outputId": "05393044-9cb0-46ca-8a84-ac9b0c3e0cd8"
      },
      "outputs": [
        {
          "name": "stdout",
          "output_type": "stream",
          "text": [
            "The carrier with the top number of flights is Southwest Airlines Co. (1979 - ) having achieved 568904 flights.\n"
          ]
        }
      ],
      "source": [
        "top_carrier = df_f[df_f['CANCELLED']== 0].groupby('CARRIER').count().sort_values(by = 'FL_DATE', ascending = False)['FL_DATE']\n",
        "top_carrier_name = carrier_df[carrier_df['Code']==top_carrier.keys()[0]]\n",
        "print(\"The carrier with the top number of flights is {} having achieved {} flights.\".format(top_carrier_name.iloc[0,1], top_carrier[0]))"
      ]
    },
    {
      "cell_type": "markdown",
      "metadata": {
        "id": "ES2CMAbhRZDg"
      },
      "source": [
        "### Question 2 Which airport has the 3rd most delays?"
      ]
    },
    {
      "cell_type": "code",
      "execution_count": null,
      "metadata": {
        "id": "4s1pQa4LRZDh",
        "outputId": "83eead86-82c2-4fe9-ea4e-7df3c4055c45"
      },
      "outputs": [
        {
          "name": "stdout",
          "output_type": "stream",
          "text": [
            "The third airport with the most delayed flights is Denver, CO: Denver International.\n"
          ]
        }
      ],
      "source": [
        "top_airport_delay = df_f[df_f['DEP_DELAY']> 0].groupby('ORIGIN_AIRPORT_ID').count().sort_values(by = 'FL_DATE', ascending = False)['FL_DATE']\n",
        "third_airport_name = airport_df[airport_df['Code']==top_airport_delay.keys()[2]]\n",
        "print(\"The third airport with the most delayed flights is {}.\".format(third_airport_name.iloc[0,1]))"
      ]
    },
    {
      "cell_type": "markdown",
      "metadata": {
        "id": "u68a7BZARZDi"
      },
      "source": [
        "### What is the most popular day of the week to travel?"
      ]
    },
    {
      "cell_type": "code",
      "execution_count": null,
      "metadata": {
        "id": "MgYvnMsCRZDj",
        "outputId": "cb8a81ba-62a0-432e-b6d9-c569d2bf9fa7"
      },
      "outputs": [
        {
          "name": "stdout",
          "output_type": "stream",
          "text": [
            "The most popular day of the week to travel is: Friday.\n"
          ]
        }
      ],
      "source": [
        "date_df = df_f[['FL_DATE']].set_index(df_f['FL_DATE'])\n",
        "date_df.index = pd.to_datetime(date_df.index)\n",
        "date_df['WEEKDAY'] = date_df.index.weekday\n",
        "weekday_df = date_df.groupby('WEEKDAY').count()\n",
        "weekday_df.index = ['Monday', 'Tuesday', 'Wednesday', 'Thursday', 'Friday', 'Saturday', 'Sunday']\n",
        "print(\"The most popular day of the week to travel is: {}.\".format(weekday_df['FL_DATE'].idxmax()))"
      ]
    },
    {
      "cell_type": "markdown",
      "metadata": {
        "id": "9fMie997RZDk"
      },
      "source": [
        "### What is the 1st and 5th most flown route?"
      ]
    },
    {
      "cell_type": "code",
      "execution_count": null,
      "metadata": {
        "id": "xyyuoyFMRZDk"
      },
      "outputs": [],
      "source": [
        "# Create new column of type string that includes the origin and destination airport ID\n",
        "df_f['ROUTE'] = df_f['ORIGIN_AIRPORT_ID'].astype(str) + '_' + df_f['DEST_AIRPORT_ID'].astype(str)"
      ]
    },
    {
      "cell_type": "code",
      "execution_count": null,
      "metadata": {
        "id": "GMbyxVZ2RZDl"
      },
      "outputs": [],
      "source": [
        "# group the records by routes and sort them by count of records. Then create a list having the origin and destination airport of 1st and 5th top routes \n",
        "top_routes = df_f[df_f['CANCELLED']== 0].groupby('ROUTE').count().sort_values(by = 'FL_DATE', ascending = False)['FL_DATE']\n",
        "first_fifth_df = pd.DataFrame(top_routes[0::4][0:2])\n",
        "first_fifth_route = first_fifth_df.index.str.split(\"_\", n = 1, expand = True)"
      ]
    },
    {
      "cell_type": "code",
      "execution_count": null,
      "metadata": {
        "id": "SHEhbg0JRZDm",
        "outputId": "021e1d96-15ec-4415-9c00-003235c4c9fc"
      },
      "outputs": [
        {
          "name": "stdout",
          "output_type": "stream",
          "text": [
            "The 1st most flown route is San Francisco, CA: San Francisco International - Los Angeles, CA: Los Angeles International.\n",
            "The 5th most flown route is New York, NY: John F. Kennedy International - Los Angeles, CA: Los Angeles International.\n"
          ]
        }
      ],
      "source": [
        "print(\"The 1st most flown route is {} - {}.\".format(airport_df[airport_df['Code']== int(first_fifth_route[0][0])].iloc[0,1], \n",
        "airport_df[airport_df['Code']== int(first_fifth_route[0][1])].iloc[0,1]))\n",
        "print(\"The 5th most flown route is {} - {}.\".format(airport_df[airport_df['Code']== int(first_fifth_route[1][0])].iloc[0,1], \n",
        "airport_df[airport_df['Code']== int(first_fifth_route[1][1])].iloc[0,1]))\n"
      ]
    }
  ],
  "metadata": {
    "kernelspec": {
      "display_name": "Python 3",
      "language": "python",
      "name": "python3"
    },
    "language_info": {
      "codemirror_mode": {
        "name": "ipython",
        "version": 3
      },
      "file_extension": ".py",
      "mimetype": "text/x-python",
      "name": "python",
      "nbconvert_exporter": "python",
      "pygments_lexer": "ipython3",
      "version": "3.10.1"
    },
    "colab": {
      "name": "Assignment_1_feghali2.ipynb",
      "provenance": []
    }
  },
  "nbformat": 4,
  "nbformat_minor": 0
}